{
 "cells": [
  {
   "cell_type": "code",
   "execution_count": 1,
   "id": "3001d3ca-7af5-481f-89bd-5c7ea8f975ab",
   "metadata": {},
   "outputs": [],
   "source": [
    "import numpy as np \n",
    "import pandas as pd \n",
    "import matplotlib.pyplot as plt \n",
    "from sklearn.preprocessing import StandardScaler \n",
    "\n",
    "from sklearn.model_selection import train_test_split \n",
    "\n",
    "import tensorflow as tf \n",
    "\n",
    "from tensorflow.keras.models import Sequential\n",
    "from tensorflow.keras.layers import Dense, Input\n",
    "\n",
    "from sklearn.metrics import confusion_matrix\n",
    "from sklearn.metrics import recall_score, precision_score, roc_auc_score"
   ]
  },
  {
   "cell_type": "markdown",
   "id": "9b30973d-271a-42ec-a8c1-a7e56b6cd8a8",
   "metadata": {},
   "source": [
    "## Utilisation de toutes les variables "
   ]
  },
  {
   "cell_type": "code",
   "execution_count": 5,
   "id": "e9f0f71c-68b5-49a8-b1ea-f46a74dd64ab",
   "metadata": {},
   "outputs": [
    {
     "ename": "NameError",
     "evalue": "name 'StandardScaler' is not defined",
     "output_type": "error",
     "traceback": [
      "\u001b[0;31m---------------------------------------------------------------------------\u001b[0m",
      "\u001b[0;31mNameError\u001b[0m                                 Traceback (most recent call last)",
      "Cell \u001b[0;32mIn[5], line 15\u001b[0m\n\u001b[1;32m      9\u001b[0m x_train,x_test,y_train,y_test\u001b[38;5;241m=\u001b[39mtrain_test_split(data,prediction,test_size\u001b[38;5;241m=\u001b[39m\u001b[38;5;241m0.3\u001b[39m,random_state\u001b[38;5;241m=\u001b[39m\u001b[38;5;241m42\u001b[39m)\n\u001b[1;32m     12\u001b[0m \u001b[38;5;66;03m#Standardisation des données\u001b[39;00m\n\u001b[0;32m---> 15\u001b[0m scaler\u001b[38;5;241m=\u001b[39mStandardScaler()\n\u001b[1;32m     17\u001b[0m x_train\u001b[38;5;241m=\u001b[39mscaler\u001b[38;5;241m.\u001b[39mfit_transform(x_train)\n\u001b[1;32m     18\u001b[0m x_test\u001b[38;5;241m=\u001b[39mscaler\u001b[38;5;241m.\u001b[39mtransform(x_test)\n",
      "\u001b[0;31mNameError\u001b[0m: name 'StandardScaler' is not defined"
     ]
    }
   ],
   "source": [
    "\n",
    "data=pd.read_csv('Database_propre.csv')\n",
    "\n",
    "\n",
    "prediction=data['prediction']\n",
    "data= data.drop('prediction', axis=1)\n",
    "\n",
    "x_train,x_test,y_train,y_test=train_test_split(data,prediction,test_size=0.3,random_state=42)\n",
    "\n",
    "\n",
    "#Standardisation des données\n",
    "\n",
    "\n",
    "scaler=StandardScaler()\n",
    "\n",
    "x_train=scaler.fit_transform(x_train)\n",
    "x_test=scaler.transform(x_test)\n",
    "\n",
    "\n",
    "\n",
    "#Model 1:  2 hidden layer\n",
    "\n",
    "model=Sequential()\n",
    "\n",
    "model.add(Input(shape=(27,)))\n",
    "model.add(Dense(26, activation='relu'))       #first hidden layer\n",
    "model.add(Dense(13, activation='relu'))                        # second hidden layer\n",
    "\n",
    "#model.add(Dense( 32, activation='relu'))                      #third hidden layer \n",
    "\n",
    "model.add(Dense(1, activation=\"sigmoid\"))                     #output layer \n",
    "\n",
    "model.compile(optimizer='adam', loss='binary_crossentropy', metrics=['accuracy'])\n",
    "\n",
    "#Train the model \n",
    "\n",
    "history= model.fit(x_train, y_train, epochs=10, validation_split=0.2, verbose=1)\n",
    "\n",
    "\n",
    "\n",
    "#code visualisation des courbes de perte et d'accuracy \n",
    "\n",
    "plt.figure(figsize=(12, 5))\n",
    "\n",
    "\n",
    "\n",
    "plt.subplot(1,2,1)\n",
    "plt.plot(history.history['loss'],label='Train loss')\n",
    "plt.plot(history.history['val_loss'], label='Validation Loss')\n",
    "plt.title('Training and Validation Loss')\n",
    "plt.ylabel('Loss')\n",
    "plt.xlabel('Epoch')\n",
    "plt.legend()\n",
    "\n",
    "# Plot training & validation accuracy values\n",
    "plt.subplot(1, 2, 2)\n",
    "plt.plot(history.history['accuracy'], label='Train accuracy')\n",
    "plt.plot(history.history['val_accuracy'], label='Validation accuracy')\n",
    "plt.title('Training and Validation Accuracy')\n",
    "plt.ylabel('Accuracy')\n",
    "plt.xlabel('Epoch')\n",
    "plt.legend()\n",
    "\n",
    "plt.tight_layout()\n",
    "plt.show()\n",
    "\n",
    "\n",
    "\n",
    "### Metrique \n",
    "\n",
    "y_pred=model.predict(x_test)\n",
    "# Convert probabilities to binary predictions\n",
    "y_pred = (y_pred > 0.5).astype(int)\n",
    "\n",
    "\n",
    "\n",
    "recall=recall_score(y_test,y_pred)\n",
    "precision=precision_score(y_test,y_pred)\n",
    "roc_auc=roc_auc_score(y_test,y_pred)\n",
    "\n",
    "print('recall=',recall)\n",
    "print('precision=',precision)\n",
    "print('roc_auc=',roc_auc)\n",
    "\n",
    "\n",
    "#Model 2 et 3 \n",
    "\n",
    "#3 Hidden layers ou 4 \n",
    "\n",
    "\n",
    "\n",
    "\n",
    "model=Sequential()\n",
    "\n",
    "model.add(Input(shape=(27,)))\n",
    "model.add(Dense(26, activation='relu')) #first hidden layer\n",
    "\n",
    "#model.add(Dense(20, activation='relu'))    \n",
    "model.add(Dense(13, activation='relu'))                        # second hidden layer\n",
    "\n",
    "model.add(Dense(6, activation='relu'))                      #third hidden layer \n",
    "\n",
    "model.add(Dense(1, activation=\"sigmoid\"))                     #output layer \n",
    "\n",
    "model.compile(optimizer='adam', loss='binary_crossentropy', metrics=['accuracy'])\n",
    "\n",
    "#Train the model \n",
    "\n",
    "history= model.fit(x_train, y_train, epochs=10, validation_split=0.2, verbose=1)\n",
    "\n",
    "\n",
    "\n"
   ]
  },
  {
   "cell_type": "markdown",
   "id": "e195a67a-20b6-4145-a202-31b17e33d198",
   "metadata": {},
   "source": [
    "## Problème déséquilibre de classe"
   ]
  },
  {
   "cell_type": "markdown",
   "id": "6dbf5da0-2ba9-41d8-85a0-26d3280c79b4",
   "metadata": {},
   "source": [
    "## SMOTE "
   ]
  },
  {
   "cell_type": "code",
   "execution_count": 170,
   "id": "58128eca-c664-4b80-acb4-ccb6385fb6b3",
   "metadata": {},
   "outputs": [],
   "source": [
    "from imblearn.over_sampling import SMOTE\n",
    "\n",
    "smote = SMOTE(sampling_strategy=0.5, random_state=42)\n",
    "X_resampled, y_resampled = smote.fit_resample(x_train, y_train)\n"
   ]
  },
  {
   "cell_type": "code",
   "execution_count": 172,
   "id": "71769740-2c31-4785-b49d-657ea5b63692",
   "metadata": {},
   "outputs": [
    {
     "name": "stdout",
     "output_type": "stream",
     "text": [
      "Epoch 1/10\n",
      "\u001b[1m19072/19072\u001b[0m \u001b[32m━━━━━━━━━━━━━━━━━━━━\u001b[0m\u001b[37m\u001b[0m \u001b[1m9s\u001b[0m 416us/step - accuracy: 0.8494 - loss: 0.3369 - val_accuracy: 0.3979 - val_loss: 1.1617\n",
      "Epoch 2/10\n",
      "\u001b[1m19072/19072\u001b[0m \u001b[32m━━━━━━━━━━━━━━━━━━━━\u001b[0m\u001b[37m\u001b[0m \u001b[1m8s\u001b[0m 402us/step - accuracy: 0.8620 - loss: 0.3096 - val_accuracy: 0.4550 - val_loss: 1.0772\n",
      "Epoch 3/10\n",
      "\u001b[1m19072/19072\u001b[0m \u001b[32m━━━━━━━━━━━━━━━━━━━━\u001b[0m\u001b[37m\u001b[0m \u001b[1m8s\u001b[0m 409us/step - accuracy: 0.8642 - loss: 0.3041 - val_accuracy: 0.4983 - val_loss: 0.9903\n",
      "Epoch 4/10\n",
      "\u001b[1m19072/19072\u001b[0m \u001b[32m━━━━━━━━━━━━━━━━━━━━\u001b[0m\u001b[37m\u001b[0m \u001b[1m8s\u001b[0m 405us/step - accuracy: 0.8658 - loss: 0.3007 - val_accuracy: 0.5206 - val_loss: 0.9656\n",
      "Epoch 5/10\n",
      "\u001b[1m19072/19072\u001b[0m \u001b[32m━━━━━━━━━━━━━━━━━━━━\u001b[0m\u001b[37m\u001b[0m \u001b[1m8s\u001b[0m 405us/step - accuracy: 0.8666 - loss: 0.2979 - val_accuracy: 0.4186 - val_loss: 1.1053\n",
      "Epoch 6/10\n",
      "\u001b[1m19072/19072\u001b[0m \u001b[32m━━━━━━━━━━━━━━━━━━━━\u001b[0m\u001b[37m\u001b[0m \u001b[1m8s\u001b[0m 405us/step - accuracy: 0.8689 - loss: 0.2938 - val_accuracy: 0.5044 - val_loss: 0.9777\n",
      "Epoch 7/10\n",
      "\u001b[1m19072/19072\u001b[0m \u001b[32m━━━━━━━━━━━━━━━━━━━━\u001b[0m\u001b[37m\u001b[0m \u001b[1m8s\u001b[0m 408us/step - accuracy: 0.8691 - loss: 0.2939 - val_accuracy: 0.4539 - val_loss: 1.0574\n",
      "Epoch 8/10\n",
      "\u001b[1m19072/19072\u001b[0m \u001b[32m━━━━━━━━━━━━━━━━━━━━\u001b[0m\u001b[37m\u001b[0m \u001b[1m8s\u001b[0m 419us/step - accuracy: 0.8687 - loss: 0.2922 - val_accuracy: 0.5131 - val_loss: 0.9265\n",
      "Epoch 9/10\n",
      "\u001b[1m19072/19072\u001b[0m \u001b[32m━━━━━━━━━━━━━━━━━━━━\u001b[0m\u001b[37m\u001b[0m \u001b[1m8s\u001b[0m 403us/step - accuracy: 0.8704 - loss: 0.2910 - val_accuracy: 0.4882 - val_loss: 0.9913\n",
      "Epoch 10/10\n",
      "\u001b[1m19072/19072\u001b[0m \u001b[32m━━━━━━━━━━━━━━━━━━━━\u001b[0m\u001b[37m\u001b[0m \u001b[1m8s\u001b[0m 412us/step - accuracy: 0.8704 - loss: 0.2899 - val_accuracy: 0.4444 - val_loss: 1.0808\n"
     ]
    }
   ],
   "source": [
    "#Creation d'un modèle de réseau de neuronne \n",
    "\n",
    "import tensorflow as tf \n",
    "\n",
    "from tensorflow.keras.models import Sequential\n",
    "from tensorflow.keras.layers import Dense, Input\n",
    "\n",
    "\n",
    "model=Sequential()\n",
    "\n",
    "model.add(Input(shape=(27,)))\n",
    "model.add(Dense(26, activation='relu'))     #first hidden layer\n",
    "model.add(Dense(13, activation='relu'))                        # second hidden layer\n",
    "\n",
    "model.add(Dense( 6, activation='relu'))                  #third hidden layer \n",
    "\n",
    "model.add(Dense(1, activation=\"sigmoid\"))                     #output layer \n",
    "\n",
    "model.compile(optimizer='adam', loss='binary_crossentropy', metrics=['accuracy'])\n",
    "\n",
    "#Train the model \n",
    "\n",
    "history= model.fit(X_resampled, y_resampled, epochs=10, validation_split=0.2, verbose=1)"
   ]
  },
  {
   "cell_type": "code",
   "execution_count": 174,
   "id": "2685e300-cd55-48b5-bcca-f47a1ded8d72",
   "metadata": {},
   "outputs": [
    {
     "data": {
      "image/png": "[encoded data removed]",
      "text/plain": [
       "<Figure size 1200x500 with 2 Axes>"
      ]
     },
     "metadata": {},
     "output_type": "display_data"
    }
   ],
   "source": [
    "plt.figure(figsize=(12, 5))\n",
    "\n",
    "# regardons  les courbes du training et la validation loss (perte d'entrainement ou de validation) en fonction du nombre d'epochs \n",
    "\n",
    "\n",
    "plt.subplot(1,2,1)\n",
    "plt.plot(history.history['loss'],label='Train loss')\n",
    "plt.plot(history.history['val_loss'], label='Validation Loss')\n",
    "plt.title('Training and Validation Loss')\n",
    "plt.ylabel('Loss')\n",
    "plt.xlabel('Epoch')\n",
    "plt.legend()\n",
    "\n",
    "# Plot training & validation accuracy values\n",
    "plt.subplot(1, 2, 2)\n",
    "plt.plot(history.history['accuracy'], label='Train Accuracy')\n",
    "plt.plot(history.history['val_accuracy'], label='Validation Accuracy')\n",
    "plt.title('Training and Validation Accuracy')\n",
    "plt.ylabel('Accuracy')\n",
    "plt.xlabel('Epoch')\n",
    "plt.legend()\n",
    "\n",
    "plt.tight_layout()\n",
    "plt.show()"
   ]
  },
  {
   "cell_type": "code",
   "execution_count": 176,
   "id": "6f3fc665-b9b3-4a7c-8128-6e280c2dcb3c",
   "metadata": {},
   "outputs": [
    {
     "name": "stdout",
     "output_type": "stream",
     "text": [
      "\u001b[1m4026/4026\u001b[0m \u001b[32m━━━━━━━━━━━━━━━━━━━━\u001b[0m\u001b[37m\u001b[0m \u001b[1m1s\u001b[0m 250us/step\n",
      "f1_score= 0.12268000526523627\n",
      "recall= 0.28836633663366334\n",
      "precision= 0.07791339240929611\n",
      "roc_auc= 0.6225026638667264\n"
     ]
    }
   ],
   "source": [
    "y_pred=model.predict(x_test)\n",
    "# Convert probabilities to binary predictions\n",
    "y_pred = (y_pred > 0.5).astype(int)\n",
    "\n",
    "from sklearn.metrics import recall_score, precision_score, roc_auc_score , f1_score\n",
    "\n",
    "recall=recall_score(y_test,y_pred)\n",
    "precision=precision_score(y_test,y_pred)\n",
    "roc_auc=roc_auc_score(y_test,y_pred)\n",
    "print('f1_score=',f1_score(y_test,y_pred))\n",
    "\n",
    "print('recall=',recall)\n",
    "print('precision=',precision)\n",
    "print('roc_auc=',roc_auc)"
   ]
  },
  {
   "cell_type": "code",
   "execution_count": 180,
   "id": "611b8c27-3327-4625-a293-434e1990c97c",
   "metadata": {},
   "outputs": [
    {
     "name": "stdout",
     "output_type": "stream",
     "text": [
      "Epoch 1/10\n",
      "\u001b[1m498/498\u001b[0m \u001b[32m━━━━━━━━━━━━━━━━━━━━\u001b[0m\u001b[37m\u001b[0m \u001b[1m1s\u001b[0m 636us/step - accuracy: 0.7786 - loss: 0.5009 - val_accuracy: 0.2706 - val_loss: 1.2859\n",
      "Epoch 2/10\n",
      "\u001b[1m498/498\u001b[0m \u001b[32m━━━━━━━━━━━━━━━━━━━━\u001b[0m\u001b[37m\u001b[0m \u001b[1m0s\u001b[0m 506us/step - accuracy: 0.8430 - loss: 0.3553 - val_accuracy: 0.2054 - val_loss: 1.3621\n",
      "Epoch 3/10\n",
      "\u001b[1m498/498\u001b[0m \u001b[32m━━━━━━━━━━━━━━━━━━━━\u001b[0m\u001b[37m\u001b[0m \u001b[1m0s\u001b[0m 471us/step - accuracy: 0.8487 - loss: 0.3442 - val_accuracy: 0.2733 - val_loss: 1.2997\n",
      "Epoch 4/10\n",
      "\u001b[1m498/498\u001b[0m \u001b[32m━━━━━━━━━━━━━━━━━━━━\u001b[0m\u001b[37m\u001b[0m \u001b[1m0s\u001b[0m 471us/step - accuracy: 0.8468 - loss: 0.3456 - val_accuracy: 0.2489 - val_loss: 1.3375\n",
      "Epoch 5/10\n",
      "\u001b[1m498/498\u001b[0m \u001b[32m━━━━━━━━━━━━━━━━━━━━\u001b[0m\u001b[37m\u001b[0m \u001b[1m0s\u001b[0m 482us/step - accuracy: 0.8489 - loss: 0.3376 - val_accuracy: 0.2507 - val_loss: 1.3024\n",
      "Epoch 6/10\n",
      "\u001b[1m498/498\u001b[0m \u001b[32m━━━━━━━━━━━━━━━━━━━━\u001b[0m\u001b[37m\u001b[0m \u001b[1m0s\u001b[0m 484us/step - accuracy: 0.8500 - loss: 0.3387 - val_accuracy: 0.3173 - val_loss: 1.3000\n",
      "Epoch 7/10\n",
      "\u001b[1m498/498\u001b[0m \u001b[32m━━━━━━━━━━━━━━━━━━━━\u001b[0m\u001b[37m\u001b[0m \u001b[1m0s\u001b[0m 486us/step - accuracy: 0.8487 - loss: 0.3326 - val_accuracy: 0.2985 - val_loss: 1.3029\n",
      "Epoch 8/10\n",
      "\u001b[1m498/498\u001b[0m \u001b[32m━━━━━━━━━━━━━━━━━━━━\u001b[0m\u001b[37m\u001b[0m \u001b[1m0s\u001b[0m 482us/step - accuracy: 0.8543 - loss: 0.3316 - val_accuracy: 0.3012 - val_loss: 1.3212\n",
      "Epoch 9/10\n",
      "\u001b[1m498/498\u001b[0m \u001b[32m━━━━━━━━━━━━━━━━━━━━\u001b[0m\u001b[37m\u001b[0m \u001b[1m0s\u001b[0m 479us/step - accuracy: 0.8547 - loss: 0.3248 - val_accuracy: 0.3048 - val_loss: 1.3152\n",
      "Epoch 10/10\n",
      "\u001b[1m498/498\u001b[0m \u001b[32m━━━━━━━━━━━━━━━━━━━━\u001b[0m\u001b[37m\u001b[0m \u001b[1m0s\u001b[0m 490us/step - accuracy: 0.8573 - loss: 0.3257 - val_accuracy: 0.3669 - val_loss: 1.2386\n"
     ]
    }
   ],
   "source": [
    "from imblearn.under_sampling import RandomUnderSampler\n",
    "\n",
    "# Définir l'undersampling pour équilibrer les classes\n",
    "undersampler = RandomUnderSampler(sampling_strategy=0.5, random_state=42)  # 50% de la classe majoritaire\n",
    "X_resampled, y_resampled = undersampler.fit_resample(x_train, y_train)\n",
    "\n",
    "model=Sequential()\n",
    "\n",
    "model.add(Input(shape=(27,)))\n",
    "model.add(Dense(26, activation='relu'))       #first hidden layer\n",
    "model.add(Dense(13, activation='relu'))                        # second hidden layer\n",
    "\n",
    "model.add(Dense(6, activation='relu'))                      #third hidden layer \n",
    "\n",
    "model.add(Dense(1, activation=\"sigmoid\"))                     #output layer \n",
    "\n",
    "model.compile(optimizer='adam', loss='binary_crossentropy', metrics=['accuracy'])\n",
    "\n",
    "#Train the model \n",
    "\n",
    "history= model.fit(X_resampled, y_resampled, epochs=10, validation_split=0.2, verbose=1)\n"
   ]
  },
  {
   "cell_type": "code",
   "execution_count": 182,
   "id": "db941bbd-57c1-43df-a94f-89bbb934f74d",
   "metadata": {},
   "outputs": [
    {
     "name": "stdout",
     "output_type": "stream",
     "text": [
      "\u001b[1m4026/4026\u001b[0m \u001b[32m━━━━━━━━━━━━━━━━━━━━\u001b[0m\u001b[37m\u001b[0m \u001b[1m1s\u001b[0m 249us/step\n",
      "f1_score= 0.12138364779874214\n",
      "recall= 0.3582920792079208\n",
      "precision= 0.07306915699141847\n",
      "roc_auc= 0.6502714602411274\n"
     ]
    }
   ],
   "source": [
    "y_pred=model.predict(x_test)\n",
    "# Convert probabilities to binary predictions\n",
    "y_pred = (y_pred > 0.5).astype(int)\n",
    "\n",
    "from sklearn.metrics import recall_score, precision_score, roc_auc_score , f1_score\n",
    "\n",
    "recall=recall_score(y_test,y_pred)\n",
    "precision=precision_score(y_test,y_pred)\n",
    "roc_auc=roc_auc_score(y_test,y_pred)\n",
    "print('f1_score=',f1_score(y_test,y_pred))\n",
    "\n",
    "print('recall=',recall)\n",
    "print('precision=',precision)\n",
    "print('roc_auc=',roc_auc)"
   ]
  },
  {
   "cell_type": "code",
   "execution_count": null,
   "id": "5ed4617e-6765-412d-9d2d-cba54b0add31",
   "metadata": {},
   "outputs": [],
   "source": []
  }
 ],
 "metadata": {
  "kernelspec": {
   "display_name": "Python 3 (ipykernel)",
   "language": "python",
   "name": "python3"
  },
  "language_info": {
   "codemirror_mode": {
    "name": "ipython",
    "version": 3
   },
   "file_extension": ".py",
   "mimetype": "text/x-python",
   "name": "python",
   "nbconvert_exporter": "python",
   "pygments_lexer": "ipython3",
   "version": "3.12.4"
  }
 },
 "nbformat": 4,
 "nbformat_minor": 5
}
